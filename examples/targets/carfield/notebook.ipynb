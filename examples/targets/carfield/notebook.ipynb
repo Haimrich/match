{
 "cells": [
  {
   "cell_type": "code",
   "execution_count": 1,
   "metadata": {},
   "outputs": [],
   "source": [
    "import sys\n",
    "\n",
    "MATCH_PATH = \"../../../..\"\n",
    "sys.path.append(f\"{MATCH_PATH}/match/match-tvm/python\")\n",
    "sys.path.append(f\"{MATCH_PATH}/match/zigzag\")\n",
    "sys.path.append(f\"{MATCH_PATH}/match\")\n",
    "sys.path.append(\".\")\n",
    "\n",
    "import match\n",
    "from match.utils.utils import get_default_inputs\n",
    "from match.model.model import MatchModel\n",
    "from carfield import Carfield\n",
    "\n",
    "INPUT_FILE_PATH = \"model/input.txt\"\n",
    "ONNX_FILE_PATH = \"model/model.onnx\"\n",
    "OUTPUT_DIR = \"output\""
   ]
  },
  {
   "cell_type": "code",
   "execution_count": 2,
   "metadata": {},
   "outputs": [
    {
     "name": "stderr",
     "output_type": "stream",
     "text": [
      "2025-05-12 14:00:48,769 - parse_workload_from_path_or_from_module +42 - INFO - Created workload graph with 1 nodes and 0 edges.\n",
      "2025-05-12 14:00:48,770 - run +29 - INFO - Processing layer 0...\n",
      "2025-05-12 14:00:48,770 - run +89 - INFO - Launching spatial mapping 1/1: {'D1': ('OY', 8), 'D2': ('OX', 2), 'D3': ('K', 3)}.\n",
      "2025-05-12 14:00:48,771 - run +74 - INFO - Running temporal mapping search engine...\n"
     ]
    },
    {
     "name": "stdout",
     "output_type": "stream",
     "text": [
      "-------------------\n",
      "[PATTERN MATCHER] Node matched pattern carfield.pulp_cluster.conv2d, checking additional conditions\n",
      "Looking for temporal mapping with following spatial mapping {'conv2d': {'core_allocation': 1, 'spatial_mapping': {'D1': ('OY', 8), 'D2': ('OX', 2), 'D3': ('K', 3)}, 'memory_operand_links': {'I': 'I1', 'W': 'I2', 'O': 'O'}, 'unordered_loops': ['FX', 'FY', 'C']}}\n"
     ]
    },
    {
     "name": "stderr",
     "output_type": "stream",
     "text": [
      "  0%|          | 105/75600 [00:00<09:02, 139.20it/s]\n",
      "2025-05-12 14:00:49,532 - run +44 - INFO - Saved CostModelEvaluation(layer=None, core=1) with energy 9.246e+07 and latency 1.743e+05 to tmp/match-layer_None_complete.json\n",
      "2025-05-12 14:00:49,533 - run +98 - INFO - Saved CostModelEvaluation(layer=None, core=1) with energy 9.246e+07 and latency 1.743e+05 to tmp/match-layer_None_simple.json\n",
      "2025-05-12 14:00:49,537 - run +146 - INFO - Saved pickled list of 1 CMEs to tmp/match-saved_list_of_cmes.pickle.\n",
      "2025-05-12 14:00:49,565 - parse_workload_from_path_or_from_module +42 - INFO - Created workload graph with 1 nodes and 0 edges.\n",
      "2025-05-12 14:00:49,566 - run +29 - INFO - Processing layer 0...\n",
      "2025-05-12 14:00:49,567 - run +89 - INFO - Launching spatial mapping 1/1: {'D1': ('OY', 8), 'D2': ('OX', 2), 'D3': ('K', 4)}.\n",
      "2025-05-12 14:00:49,567 - run +74 - INFO - Running temporal mapping search engine...\n"
     ]
    },
    {
     "name": "stdout",
     "output_type": "stream",
     "text": [
      "[PATTERN MATCHER] Node is supported by carfield.pulp_cluster.conv2d with expected latency 174272.0 and expected energy 92457208.8\n",
      "[PATTERN MATCHER] Node matched pattern carfield.pulp_cluster.conv2d, checking additional conditions\n",
      "[PATTERN MATCHER] Matched pattern carfield.pulp_cluster.depthwise_conv2d didnt satisfy the additional conditions\n",
      "[PATTERN MATCHER] Node matched pattern carfield.pulp_cluster.conv2d, checking additional conditions\n",
      "[PATTERN MATCHER] Matched pattern carfield.pulp_cluster.pointwise_conv2d didnt satisfy the additional conditions\n",
      "-------------------\n",
      "[PATTERN MATCHER] Node matched pattern carfield.pulp_cluster.conv2d, checking additional conditions\n",
      "Looking for temporal mapping with following spatial mapping {'conv2d': {'core_allocation': 1, 'spatial_mapping': {'D1': ('OY', 8), 'D2': ('OX', 2), 'D3': ('K', 4)}, 'memory_operand_links': {'I': 'I1', 'W': 'I2', 'O': 'O'}, 'unordered_loops': ['FX', 'FY', 'C']}}\n"
     ]
    },
    {
     "name": "stderr",
     "output_type": "stream",
     "text": [
      "  0%|          | 140/100800 [00:00<10:39, 157.34it/s]\n",
      "2025-05-12 14:00:50,461 - run +44 - INFO - Saved CostModelEvaluation(layer=None, core=1) with energy 2.418e+08 and latency 1.229e+05 to tmp/match-layer_None_complete.json\n",
      "2025-05-12 14:00:50,462 - run +98 - INFO - Saved CostModelEvaluation(layer=None, core=1) with energy 2.418e+08 and latency 1.229e+05 to tmp/match-layer_None_simple.json\n",
      "2025-05-12 14:00:50,464 - run +146 - INFO - Saved pickled list of 1 CMEs to tmp/match-saved_list_of_cmes.pickle.\n",
      "2025-05-12 14:00:50,502 - parse_workload_from_path_or_from_module +42 - INFO - Created workload graph with 1 nodes and 0 edges.\n",
      "2025-05-12 14:00:50,502 - run +29 - INFO - Processing layer 0...\n",
      "2025-05-12 14:00:50,503 - run +89 - INFO - Launching spatial mapping 1/1: {'D1': ('OY', 8), 'D2': ('OX', 2), 'D3': ('K', 4)}.\n",
      "2025-05-12 14:00:50,503 - run +74 - INFO - Running temporal mapping search engine...\n"
     ]
    },
    {
     "name": "stdout",
     "output_type": "stream",
     "text": [
      "[PATTERN MATCHER] Node is supported by carfield.pulp_cluster.conv2d with expected latency 122900.0 and expected energy 241836316.8\n",
      "[PATTERN MATCHER] Node matched pattern carfield.pulp_cluster.conv2d, checking additional conditions\n",
      "[PATTERN MATCHER] Matched pattern carfield.pulp_cluster.depthwise_conv2d didnt satisfy the additional conditions\n",
      "[PATTERN MATCHER] Node matched pattern carfield.pulp_cluster.conv2d, checking additional conditions\n",
      "[PATTERN MATCHER] Matched pattern carfield.pulp_cluster.pointwise_conv2d didnt satisfy the additional conditions\n",
      "-------------------\n",
      "[PATTERN MATCHER] Node matched pattern carfield.pulp_cluster.conv2d, checking additional conditions\n",
      "Looking for temporal mapping with following spatial mapping {'conv2d': {'core_allocation': 1, 'spatial_mapping': {'D1': ('OY', 8), 'D2': ('OX', 2), 'D3': ('K', 4)}, 'memory_operand_links': {'I': 'I1', 'W': 'I2', 'O': 'O'}, 'unordered_loops': ['FX', 'FY', 'C']}}\n"
     ]
    },
    {
     "name": "stderr",
     "output_type": "stream",
     "text": [
      "  0%|          | 12/2520 [00:00<00:08, 280.76it/s]\n",
      "2025-05-12 14:00:50,550 - run +44 - INFO - Saved CostModelEvaluation(layer=None, core=1) with energy 2.422e+08 and latency 6.983e+04 to tmp/match-layer_None_complete.json\n",
      "2025-05-12 14:00:50,551 - run +98 - INFO - Saved CostModelEvaluation(layer=None, core=1) with energy 2.422e+08 and latency 6.983e+04 to tmp/match-layer_None_simple.json\n",
      "2025-05-12 14:00:50,554 - run +146 - INFO - Saved pickled list of 1 CMEs to tmp/match-saved_list_of_cmes.pickle.\n",
      "2025-05-12 14:00:50,606 - parse_workload_from_path_or_from_module +42 - INFO - Created workload graph with 1 nodes and 0 edges.\n",
      "2025-05-12 14:00:50,607 - run +29 - INFO - Processing layer 0...\n",
      "2025-05-12 14:00:50,608 - run +89 - INFO - Launching spatial mapping 1/1: {'D1': ('K', 6), 'D2': ('OX', 4), 'D3': ('OY', 4)}.\n",
      "2025-05-12 14:00:50,609 - run +74 - INFO - Running temporal mapping search engine...\n"
     ]
    },
    {
     "name": "stdout",
     "output_type": "stream",
     "text": [
      "[PATTERN MATCHER] Node is supported by carfield.pulp_cluster.conv2d with expected latency 69832.0 and expected energy 242197516.8\n",
      "[PATTERN MATCHER] Node matched pattern carfield.pulp_cluster.conv2d, checking additional conditions\n",
      "[PATTERN MATCHER] Matched pattern carfield.pulp_cluster.depthwise_conv2d didnt satisfy the additional conditions\n",
      "[PATTERN MATCHER] Node matched pattern carfield.pulp_cluster.conv2d, checking additional conditions\n",
      "[PATTERN MATCHER] Matched pattern carfield.pulp_cluster.pointwise_conv2d didnt satisfy the additional conditions\n",
      "-------------------\n",
      "[PATTERN MATCHER] Node matched pattern carfield.pulp_cluster.conv2d, checking additional conditions\n",
      "[PATTERN MATCHER] Matched pattern carfield.pulp_cluster.conv2d didnt satisfy the additional conditions\n",
      "-------------------\n",
      "[PATTERN MATCHER] Node matched pattern carfield.pulp_cluster.conv2d, checking additional conditions\n",
      "[PATTERN MATCHER] Matched pattern carfield.pulp_cluster.conv2d didnt satisfy the additional conditions\n",
      "-------------------\n",
      "[PATTERN MATCHER] Node matched pattern carfield.pulp_cluster.conv2d, checking additional conditions\n",
      "[PATTERN MATCHER] Matched pattern carfield.pulp_cluster.conv2d didnt satisfy the additional conditions\n",
      "-------------------\n",
      "[PATTERN MATCHER] Node matched pattern carfield.pulp_cluster.conv2d, checking additional conditions\n",
      "[PATTERN MATCHER] Matched pattern carfield.pulp_cluster.conv2d didnt satisfy the additional conditions\n",
      "-------------------\n",
      "[PATTERN MATCHER] Node matched pattern carfield.pulp_cluster.depthwise_conv2d, checking additional conditions\n",
      "Looking for temporal mapping with following spatial mapping {'depthwise_conv2d': {'core_allocation': 1, 'spatial_mapping': {'D1': ('K', 6), 'D2': ('OX', 4), 'D3': ('OY', 4)}, 'memory_operand_links': {'I': 'I1', 'W': 'I2', 'O': 'O'}, 'unordered_loops': ['FX', 'FY', 'C']}}\n"
     ]
    },
    {
     "name": "stderr",
     "output_type": "stream",
     "text": [
      "  2%|▏         | 2/120 [00:00<00:00, 387.46it/s]\n",
      "2025-05-12 14:00:50,618 - run +44 - INFO - Saved CostModelEvaluation(layer=None, core=1) with energy 1.247e+08 and latency 1.381e+04 to tmp/match-layer_None_complete.json\n",
      "2025-05-12 14:00:50,618 - run +98 - INFO - Saved CostModelEvaluation(layer=None, core=1) with energy 1.247e+08 and latency 1.381e+04 to tmp/match-layer_None_simple.json\n",
      "2025-05-12 14:00:50,621 - run +146 - INFO - Saved pickled list of 1 CMEs to tmp/match-saved_list_of_cmes.pickle.\n"
     ]
    },
    {
     "name": "stdout",
     "output_type": "stream",
     "text": [
      "[PATTERN MATCHER] Node is supported by carfield.pulp_cluster.depthwise_conv2d with expected latency 13813.0 and expected energy 124726536.0\n",
      "[PATTERN MATCHER] Node matched pattern carfield.pulp_cluster.depthwise_conv2d, checking additional conditions\n",
      "[PATTERN MATCHER] Matched pattern carfield.pulp_cluster.pointwise_conv2d didnt satisfy the additional conditions\n",
      "-------------------\n",
      "[PATTERN MATCHER] Node matched pattern carfield.pulp_cluster.depthwise_conv2d, checking additional conditions\n",
      "[PATTERN MATCHER] Matched pattern carfield.pulp_cluster.depthwise_conv2d didnt satisfy the additional conditions\n",
      "-------------------\n",
      "[PATTERN MATCHER] Node matched pattern carfield.pulp_cluster.depthwise_conv2d, checking additional conditions\n",
      "Looking for temporal mapping with following spatial mapping {'depthwise_conv2d': {'core_allocation': 1, 'spatial_mapping': {'D1': ('K', 1), 'D2': ('OX', 4), 'D3': ('OY', 4)}, 'memory_operand_links': {'I': 'I1', 'W': 'I2', 'O': 'O'}, 'unordered_loops': ['FX', 'FY', 'C']}}\n"
     ]
    },
    {
     "name": "stderr",
     "output_type": "stream",
     "text": [
      "2025-05-12 14:00:50,676 - parse_workload_from_path_or_from_module +42 - INFO - Created workload graph with 1 nodes and 0 edges.\n",
      "2025-05-12 14:00:50,677 - run +29 - INFO - Processing layer 0...\n",
      "2025-05-12 14:00:50,677 - run +89 - INFO - Launching spatial mapping 1/1: {'D1': ('K', 1), 'D2': ('OX', 4), 'D3': ('OY', 4)}.\n",
      "2025-05-12 14:00:50,678 - run +74 - INFO - Running temporal mapping search engine...\n",
      "  2%|▏         | 1/60 [00:00<00:00, 388.54it/s]\n",
      "2025-05-12 14:00:50,684 - run +44 - INFO - Saved CostModelEvaluation(layer=None, core=1) with energy 5.158e+08 and latency 3.530e+04 to tmp/match-layer_None_complete.json\n",
      "2025-05-12 14:00:50,685 - run +98 - INFO - Saved CostModelEvaluation(layer=None, core=1) with energy 5.158e+08 and latency 3.530e+04 to tmp/match-layer_None_simple.json\n",
      "2025-05-12 14:00:50,687 - run +146 - INFO - Saved pickled list of 1 CMEs to tmp/match-saved_list_of_cmes.pickle.\n",
      "2025-05-12 14:00:50,754 - parse_workload_from_path_or_from_module +42 - INFO - Created workload graph with 1 nodes and 0 edges.\n",
      "2025-05-12 14:00:50,755 - run +29 - INFO - Processing layer 0...\n",
      "2025-05-12 14:00:50,755 - run +89 - INFO - Launching spatial mapping 1/1: {'D1': ('OY', 4), 'D2': ('OX', 2), 'D3': ('K', 1)}.\n",
      "2025-05-12 14:00:50,756 - run +74 - INFO - Running temporal mapping search engine...\n"
     ]
    },
    {
     "name": "stdout",
     "output_type": "stream",
     "text": [
      "[PATTERN MATCHER] Node is supported by carfield.pulp_cluster.depthwise_conv2d with expected latency 35297.125 and expected energy 515834402.16\n",
      "[PATTERN MATCHER] Node matched pattern carfield.pulp_cluster.depthwise_conv2d, checking additional conditions\n",
      "[PATTERN MATCHER] Matched pattern carfield.pulp_cluster.pointwise_conv2d didnt satisfy the additional conditions\n",
      "-------------------\n",
      "[PATTERN MATCHER] Node matched pattern carfield.pulp_cluster.depthwise_conv2d, checking additional conditions\n",
      "[PATTERN MATCHER] Matched pattern carfield.pulp_cluster.depthwise_conv2d didnt satisfy the additional conditions\n",
      "-------------------\n",
      "[PATTERN MATCHER] Node matched pattern carfield.pulp_cluster.pointwise_conv2d, checking additional conditions\n",
      "Looking for temporal mapping with following spatial mapping {'pointwise_conv2d': {'core_allocation': 1, 'spatial_mapping': {'D1': ('OY', 4), 'D2': ('OX', 2), 'D3': ('K', 1)}, 'memory_operand_links': {'I': 'I1', 'W': 'I2', 'O': 'O'}, 'unordered_loops': ['FX', 'FY', 'C']}}\n"
     ]
    },
    {
     "name": "stderr",
     "output_type": "stream",
     "text": [
      " 25%|██▌       | 3/12 [00:00<00:00, 408.48it/s]\n",
      "2025-05-12 14:00:50,767 - run +44 - INFO - Saved CostModelEvaluation(layer=None, core=1) with energy 2.929e+07 and latency 1.858e+04 to tmp/match-layer_None_complete.json\n",
      "2025-05-12 14:00:50,768 - run +98 - INFO - Saved CostModelEvaluation(layer=None, core=1) with energy 2.929e+07 and latency 1.858e+04 to tmp/match-layer_None_simple.json\n",
      "2025-05-12 14:00:50,771 - run +146 - INFO - Saved pickled list of 1 CMEs to tmp/match-saved_list_of_cmes.pickle.\n"
     ]
    },
    {
     "name": "stdout",
     "output_type": "stream",
     "text": [
      "[PATTERN MATCHER] Node is supported by carfield.pulp_cluster.pointwise_conv2d with expected latency 18579.5 and expected energy 29287436.4\n",
      "-------------------\n",
      "[PATTERN MATCHER] Node matched pattern carfield.pulp_cluster.pointwise_conv2d, checking additional conditions\n",
      "Looking for temporal mapping with following spatial mapping {'pointwise_conv2d': {'core_allocation': 1, 'spatial_mapping': {'D1': ('OY', 4), 'D2': ('OX', 2), 'D3': ('K', 1)}, 'memory_operand_links': {'I': 'I1', 'W': 'I2', 'O': 'O'}, 'unordered_loops': ['FX', 'FY', 'C']}}\n"
     ]
    },
    {
     "name": "stderr",
     "output_type": "stream",
     "text": [
      "2025-05-12 14:00:50,839 - parse_workload_from_path_or_from_module +42 - INFO - Created workload graph with 1 nodes and 0 edges.\n",
      "2025-05-12 14:00:50,840 - run +29 - INFO - Processing layer 0...\n",
      "2025-05-12 14:00:50,841 - run +89 - INFO - Launching spatial mapping 1/1: {'D1': ('OY', 4), 'D2': ('OX', 2), 'D3': ('K', 1)}.\n",
      "2025-05-12 14:00:50,841 - run +74 - INFO - Running temporal mapping search engine...\n",
      " 25%|██▌       | 6/24 [00:00<00:00, 456.11it/s]\n",
      "2025-05-12 14:00:50,858 - run +44 - INFO - Saved CostModelEvaluation(layer=None, core=1) with energy 1.018e+08 and latency 9.059e+04 to tmp/match-layer_None_complete.json\n",
      "2025-05-12 14:00:50,859 - run +98 - INFO - Saved CostModelEvaluation(layer=None, core=1) with energy 1.018e+08 and latency 9.059e+04 to tmp/match-layer_None_simple.json\n",
      "2025-05-12 14:00:50,861 - run +146 - INFO - Saved pickled list of 1 CMEs to tmp/match-saved_list_of_cmes.pickle.\n"
     ]
    },
    {
     "name": "stdout",
     "output_type": "stream",
     "text": [
      "[PATTERN MATCHER] Node is supported by carfield.pulp_cluster.pointwise_conv2d with expected latency 90587.125 and expected energy 101765654.96\n",
      "-------------------\n",
      "[PATTERN MATCHER] Node matched pattern carfield.pulp_cluster.dense_out, checking additional conditions\n",
      "Looking for temporal mapping with following spatial mapping {'dense_out': {'core_allocation': 1, 'spatial_mapping': {'D1': ('K', 5)}, 'memory_operand_links': {'I': 'I1', 'W': 'I2', 'O': 'O'}, 'unordered_loops': ['FX', 'FY', 'C']}}\n"
     ]
    },
    {
     "name": "stderr",
     "output_type": "stream",
     "text": [
      "2025-05-12 14:00:50,942 - parse_workload_from_path_or_from_module +42 - INFO - Created workload graph with 1 nodes and 0 edges.\n",
      "2025-05-12 14:00:50,943 - run +29 - INFO - Processing layer 0...\n",
      "2025-05-12 14:00:50,943 - run +89 - INFO - Launching spatial mapping 1/1: {'D1': ('K', 5)}.\n",
      "2025-05-12 14:00:50,944 - run +74 - INFO - Running temporal mapping search engine...\n",
      " 50%|█████     | 1/2 [00:00<00:00, 623.13it/s]\n",
      "2025-05-12 14:00:50,949 - run +44 - INFO - Saved CostModelEvaluation(layer=None, core=1) with energy 7.187e+05 and latency 2.918e+03 to tmp/match-layer_None_complete.json\n",
      "2025-05-12 14:00:50,950 - run +98 - INFO - Saved CostModelEvaluation(layer=None, core=1) with energy 7.187e+05 and latency 2.918e+03 to tmp/match-layer_None_simple.json\n",
      "2025-05-12 14:00:50,951 - run +146 - INFO - Saved pickled list of 1 CMEs to tmp/match-saved_list_of_cmes.pickle.\n"
     ]
    },
    {
     "name": "stdout",
     "output_type": "stream",
     "text": [
      "[PATTERN MATCHER] Node is supported by carfield.pulp_cluster.dense_out with expected latency 2917.5 and expected energy 718743.6\n"
     ]
    },
    {
     "name": "stderr",
     "output_type": "stream",
     "text": [
      "2025-05-12 14:00:51,582 - select_implementation +256 - INFO - Using layout_transform.generic for layout_transform based on highest priority (10)\n",
      "2025-05-12 14:00:51,596 - select_implementation +256 - INFO - Using pool.cpu for nn.max_pool2d based on highest priority (10)\n",
      "2025-05-12 14:00:51,610 - select_implementation +256 - INFO - Using pool.cpu for nn.max_pool2d based on highest priority (10)\n",
      "2025-05-12 14:00:51,624 - select_implementation +256 - INFO - Using pool.cpu for nn.max_pool2d based on highest priority (10)\n",
      "2025-05-12 14:00:51,638 - select_implementation +256 - INFO - Using pool.cpu for nn.max_pool2d based on highest priority (10)\n",
      "2025-05-12 14:00:51,652 - select_implementation +256 - INFO - Using layout_transform.generic for layout_transform based on highest priority (10)\n",
      "2025-05-12 14:00:51,657 - select_implementation +256 - INFO - Using injective.cpu for nn.batch_flatten based on highest priority (10)\n",
      "2025-05-12 14:00:51,722 - conv2d_strategy_cpu +144 - WARNING - conv2d NHWC layout is not optimized for x86 with autotvm.\n",
      "2025-05-12 14:00:51,731 - select_implementation +256 - INFO - Using conv2d_nhwc.x86 for nn.conv2d based on highest priority (10)\n",
      "2025-05-12 14:00:51,761 - conv2d_strategy_cpu +144 - WARNING - conv2d NHWC layout is not optimized for x86 with autotvm.\n",
      "2025-05-12 14:00:51,769 - select_implementation +256 - INFO - Using conv2d_nhwc.x86 for nn.conv2d based on highest priority (10)\n",
      "2025-05-12 14:00:51,779 - select_implementation +256 - INFO - Using injective.cpu for cast based on highest priority (10)\n",
      "2025-05-12 14:00:51,789 - select_implementation +256 - INFO - Using injective.cpu for multiply based on highest priority (10)\n",
      "2025-05-12 14:00:51,799 - select_implementation +256 - INFO - Using injective.cpu for add based on highest priority (10)\n",
      "2025-05-12 14:00:51,810 - select_implementation +256 - INFO - Using injective.cpu for right_shift based on highest priority (10)\n",
      "2025-05-12 14:00:51,821 - select_implementation +256 - INFO - Using injective.cpu for clip based on highest priority (10)\n",
      "2025-05-12 14:00:51,831 - select_implementation +256 - INFO - Using injective.cpu for cast based on highest priority (10)\n",
      "2025-05-12 14:00:51,910 - conv2d_strategy_cpu +144 - WARNING - conv2d NHWC layout is not optimized for x86 with autotvm.\n",
      "2025-05-12 14:00:51,918 - select_implementation +256 - INFO - Using conv2d_nhwc.x86 for nn.conv2d based on highest priority (10)\n",
      "2025-05-12 14:00:51,949 - conv2d_strategy_cpu +144 - WARNING - conv2d NHWC layout is not optimized for x86 with autotvm.\n",
      "2025-05-12 14:00:51,957 - select_implementation +256 - INFO - Using conv2d_nhwc.x86 for nn.conv2d based on highest priority (10)\n",
      "2025-05-12 14:00:51,967 - select_implementation +256 - INFO - Using injective.cpu for cast based on highest priority (10)\n",
      "2025-05-12 14:00:51,977 - select_implementation +256 - INFO - Using injective.cpu for multiply based on highest priority (10)\n",
      "2025-05-12 14:00:51,987 - select_implementation +256 - INFO - Using injective.cpu for add based on highest priority (10)\n",
      "2025-05-12 14:00:51,998 - select_implementation +256 - INFO - Using injective.cpu for right_shift based on highest priority (10)\n",
      "2025-05-12 14:00:52,009 - select_implementation +256 - INFO - Using injective.cpu for clip based on highest priority (10)\n",
      "2025-05-12 14:00:52,019 - select_implementation +256 - INFO - Using injective.cpu for cast based on highest priority (10)\n"
     ]
    },
    {
     "name": "stdout",
     "output_type": "stream",
     "text": [
      "[TEMPLATE WRITER] Generating node main_4\n"
     ]
    },
    {
     "name": "stderr",
     "output_type": "stream",
     "text": [
      "2025-05-12 14:00:52,600 - conv2d_strategy_cpu +144 - WARNING - conv2d NHWC layout is not optimized for x86 with autotvm.\n",
      "2025-05-12 14:00:52,609 - select_implementation +256 - INFO - Using conv2d_nhwc.x86 for nn.conv2d based on highest priority (10)\n",
      "2025-05-12 14:00:52,639 - conv2d_strategy_cpu +144 - WARNING - conv2d NHWC layout is not optimized for x86 with autotvm.\n",
      "2025-05-12 14:00:52,647 - select_implementation +256 - INFO - Using conv2d_nhwc.x86 for nn.conv2d based on highest priority (10)\n",
      "2025-05-12 14:00:52,657 - select_implementation +256 - INFO - Using injective.cpu for cast based on highest priority (10)\n",
      "2025-05-12 14:00:52,666 - select_implementation +256 - INFO - Using injective.cpu for multiply based on highest priority (10)\n",
      "2025-05-12 14:00:52,677 - select_implementation +256 - INFO - Using injective.cpu for add based on highest priority (10)\n",
      "2025-05-12 14:00:52,687 - select_implementation +256 - INFO - Using injective.cpu for right_shift based on highest priority (10)\n",
      "2025-05-12 14:00:52,698 - select_implementation +256 - INFO - Using injective.cpu for clip based on highest priority (10)\n",
      "2025-05-12 14:00:52,708 - select_implementation +256 - INFO - Using injective.cpu for cast based on highest priority (10)\n",
      "2025-05-12 14:00:52,788 - conv2d_strategy_cpu +144 - WARNING - conv2d NHWC layout is not optimized for x86 with autotvm.\n",
      "2025-05-12 14:00:52,795 - select_implementation +256 - INFO - Using conv2d_nhwc.x86 for nn.conv2d based on highest priority (10)\n",
      "2025-05-12 14:00:52,826 - conv2d_strategy_cpu +144 - WARNING - conv2d NHWC layout is not optimized for x86 with autotvm.\n",
      "2025-05-12 14:00:52,833 - select_implementation +256 - INFO - Using conv2d_nhwc.x86 for nn.conv2d based on highest priority (10)\n",
      "2025-05-12 14:00:52,843 - select_implementation +256 - INFO - Using injective.cpu for cast based on highest priority (10)\n",
      "2025-05-12 14:00:52,853 - select_implementation +256 - INFO - Using injective.cpu for multiply based on highest priority (10)\n",
      "2025-05-12 14:00:52,863 - select_implementation +256 - INFO - Using injective.cpu for add based on highest priority (10)\n",
      "2025-05-12 14:00:52,873 - select_implementation +256 - INFO - Using injective.cpu for right_shift based on highest priority (10)\n",
      "2025-05-12 14:00:52,884 - select_implementation +256 - INFO - Using injective.cpu for clip based on highest priority (10)\n",
      "2025-05-12 14:00:52,894 - select_implementation +256 - INFO - Using injective.cpu for cast based on highest priority (10)\n"
     ]
    },
    {
     "name": "stdout",
     "output_type": "stream",
     "text": [
      "[TEMPLATE WRITER] Generating node main_0\n"
     ]
    },
    {
     "name": "stderr",
     "output_type": "stream",
     "text": [
      "2025-05-12 14:00:53,439 - conv2d_strategy_cpu +144 - WARNING - conv2d NHWC layout is not optimized for x86 with autotvm.\n",
      "2025-05-12 14:00:53,448 - select_implementation +256 - INFO - Using conv2d_nhwc.x86 for nn.conv2d based on highest priority (10)\n",
      "2025-05-12 14:00:53,478 - conv2d_strategy_cpu +144 - WARNING - conv2d NHWC layout is not optimized for x86 with autotvm.\n",
      "2025-05-12 14:00:53,486 - select_implementation +256 - INFO - Using conv2d_nhwc.x86 for nn.conv2d based on highest priority (10)\n",
      "2025-05-12 14:00:53,496 - select_implementation +256 - INFO - Using injective.cpu for cast based on highest priority (10)\n",
      "2025-05-12 14:00:53,506 - select_implementation +256 - INFO - Using injective.cpu for multiply based on highest priority (10)\n",
      "2025-05-12 14:00:53,516 - select_implementation +256 - INFO - Using injective.cpu for add based on highest priority (10)\n",
      "2025-05-12 14:00:53,527 - select_implementation +256 - INFO - Using injective.cpu for right_shift based on highest priority (10)\n",
      "2025-05-12 14:00:53,538 - select_implementation +256 - INFO - Using injective.cpu for clip based on highest priority (10)\n",
      "2025-05-12 14:00:53,548 - select_implementation +256 - INFO - Using injective.cpu for cast based on highest priority (10)\n",
      "2025-05-12 14:00:53,628 - conv2d_strategy_cpu +144 - WARNING - conv2d NHWC layout is not optimized for x86 with autotvm.\n",
      "2025-05-12 14:00:53,636 - select_implementation +256 - INFO - Using conv2d_nhwc.x86 for nn.conv2d based on highest priority (10)\n",
      "2025-05-12 14:00:53,667 - conv2d_strategy_cpu +144 - WARNING - conv2d NHWC layout is not optimized for x86 with autotvm.\n",
      "2025-05-12 14:00:53,674 - select_implementation +256 - INFO - Using conv2d_nhwc.x86 for nn.conv2d based on highest priority (10)\n",
      "2025-05-12 14:00:53,684 - select_implementation +256 - INFO - Using injective.cpu for cast based on highest priority (10)\n",
      "2025-05-12 14:00:53,695 - select_implementation +256 - INFO - Using injective.cpu for multiply based on highest priority (10)\n",
      "2025-05-12 14:00:53,705 - select_implementation +256 - INFO - Using injective.cpu for add based on highest priority (10)\n",
      "2025-05-12 14:00:53,716 - select_implementation +256 - INFO - Using injective.cpu for right_shift based on highest priority (10)\n",
      "2025-05-12 14:00:53,727 - select_implementation +256 - INFO - Using injective.cpu for clip based on highest priority (10)\n",
      "2025-05-12 14:00:53,737 - select_implementation +256 - INFO - Using injective.cpu for cast based on highest priority (10)\n"
     ]
    },
    {
     "name": "stdout",
     "output_type": "stream",
     "text": [
      "[TEMPLATE WRITER] Generating node main_8\n"
     ]
    },
    {
     "name": "stderr",
     "output_type": "stream",
     "text": [
      "2025-05-12 14:00:54,291 - select_implementation +253 - WARNING - One or more operators have not been tuned. Please tune your model for better performance. Use DEBUG logging level to see more details.\n",
      "2025-05-12 14:00:54,293 - select_implementation +256 - INFO - Using dense_pack.x86 for nn.dense based on highest priority (10)\n",
      "2025-05-12 14:00:54,314 - select_implementation +256 - INFO - Using layout_transform.generic for layout_transform based on highest priority (10)\n",
      "2025-05-12 14:00:54,325 - select_implementation +256 - INFO - Using dense_pack.x86 for nn.contrib_dense_pack based on highest priority (10)\n",
      "2025-05-12 14:00:54,332 - select_implementation +256 - INFO - Using injective.cpu for cast based on highest priority (10)\n",
      "2025-05-12 14:00:54,338 - select_implementation +256 - INFO - Using injective.cpu for add based on highest priority (10)\n",
      "2025-05-12 14:00:54,366 - select_implementation +256 - INFO - Using dense_pack.x86 for nn.dense based on highest priority (10)\n",
      "2025-05-12 14:00:54,386 - select_implementation +256 - INFO - Using layout_transform.generic for layout_transform based on highest priority (10)\n",
      "2025-05-12 14:00:54,396 - select_implementation +256 - INFO - Using dense_pack.x86 for nn.contrib_dense_pack based on highest priority (10)\n",
      "2025-05-12 14:00:54,403 - select_implementation +256 - INFO - Using injective.cpu for cast based on highest priority (10)\n",
      "2025-05-12 14:00:54,409 - select_implementation +256 - INFO - Using injective.cpu for add based on highest priority (10)\n"
     ]
    },
    {
     "name": "stdout",
     "output_type": "stream",
     "text": [
      "[TEMPLATE WRITER] Generating node main_28\n"
     ]
    },
    {
     "name": "stderr",
     "output_type": "stream",
     "text": [
      "2025-05-12 14:00:55,023 - conv2d_strategy_cpu +230 - WARNING - depthwise_conv2d NHWC layout is not optimized for x86 with autotvm.\n",
      "2025-05-12 14:00:55,029 - select_implementation +256 - INFO - Using depthwise_conv2d_nhwc.generic for nn.conv2d based on highest priority (10)\n",
      "2025-05-12 14:00:55,062 - conv2d_strategy_cpu +230 - WARNING - depthwise_conv2d NHWC layout is not optimized for x86 with autotvm.\n",
      "2025-05-12 14:00:55,067 - select_implementation +256 - INFO - Using depthwise_conv2d_nhwc.generic for nn.conv2d based on highest priority (10)\n",
      "2025-05-12 14:00:55,077 - select_implementation +256 - INFO - Using injective.cpu for cast based on highest priority (10)\n",
      "2025-05-12 14:00:55,086 - select_implementation +256 - INFO - Using injective.cpu for multiply based on highest priority (10)\n",
      "2025-05-12 14:00:55,096 - select_implementation +256 - INFO - Using injective.cpu for add based on highest priority (10)\n",
      "2025-05-12 14:00:55,107 - select_implementation +256 - INFO - Using injective.cpu for right_shift based on highest priority (10)\n",
      "2025-05-12 14:00:55,117 - select_implementation +256 - INFO - Using injective.cpu for clip based on highest priority (10)\n",
      "2025-05-12 14:00:55,127 - select_implementation +256 - INFO - Using injective.cpu for cast based on highest priority (10)\n",
      "2025-05-12 14:00:55,220 - conv2d_strategy_cpu +230 - WARNING - depthwise_conv2d NHWC layout is not optimized for x86 with autotvm.\n",
      "2025-05-12 14:00:55,225 - select_implementation +256 - INFO - Using depthwise_conv2d_nhwc.generic for nn.conv2d based on highest priority (10)\n",
      "2025-05-12 14:00:55,257 - conv2d_strategy_cpu +230 - WARNING - depthwise_conv2d NHWC layout is not optimized for x86 with autotvm.\n",
      "2025-05-12 14:00:55,262 - select_implementation +256 - INFO - Using depthwise_conv2d_nhwc.generic for nn.conv2d based on highest priority (10)\n",
      "2025-05-12 14:00:55,272 - select_implementation +256 - INFO - Using injective.cpu for cast based on highest priority (10)\n",
      "2025-05-12 14:00:55,282 - select_implementation +256 - INFO - Using injective.cpu for multiply based on highest priority (10)\n",
      "2025-05-12 14:00:55,292 - select_implementation +256 - INFO - Using injective.cpu for add based on highest priority (10)\n",
      "2025-05-12 14:00:55,302 - select_implementation +256 - INFO - Using injective.cpu for right_shift based on highest priority (10)\n",
      "2025-05-12 14:00:55,313 - select_implementation +256 - INFO - Using injective.cpu for clip based on highest priority (10)\n",
      "2025-05-12 14:00:55,324 - select_implementation +256 - INFO - Using injective.cpu for cast based on highest priority (10)\n"
     ]
    },
    {
     "name": "stdout",
     "output_type": "stream",
     "text": [
      "[TEMPLATE WRITER] Generating node main_12\n"
     ]
    },
    {
     "name": "stderr",
     "output_type": "stream",
     "text": [
      "2025-05-12 14:00:56,023 - conv2d_strategy_cpu +144 - WARNING - conv2d NHWC layout is not optimized for x86 with autotvm.\n",
      "2025-05-12 14:00:56,031 - select_implementation +256 - INFO - Using conv2d_nhwc.x86 for nn.conv2d based on highest priority (10)\n",
      "2025-05-12 14:00:56,063 - conv2d_strategy_cpu +144 - WARNING - conv2d NHWC layout is not optimized for x86 with autotvm.\n",
      "2025-05-12 14:00:56,070 - select_implementation +256 - INFO - Using conv2d_nhwc.x86 for nn.conv2d based on highest priority (10)\n",
      "2025-05-12 14:00:56,081 - select_implementation +256 - INFO - Using injective.cpu for cast based on highest priority (10)\n",
      "2025-05-12 14:00:56,091 - select_implementation +256 - INFO - Using injective.cpu for multiply based on highest priority (10)\n",
      "2025-05-12 14:00:56,101 - select_implementation +256 - INFO - Using injective.cpu for add based on highest priority (10)\n",
      "2025-05-12 14:00:56,111 - select_implementation +256 - INFO - Using injective.cpu for right_shift based on highest priority (10)\n",
      "2025-05-12 14:00:56,122 - select_implementation +256 - INFO - Using injective.cpu for clip based on highest priority (10)\n",
      "2025-05-12 14:00:56,133 - select_implementation +256 - INFO - Using injective.cpu for cast based on highest priority (10)\n",
      "2025-05-12 14:00:56,199 - conv2d_strategy_cpu +144 - WARNING - conv2d NHWC layout is not optimized for x86 with autotvm.\n",
      "2025-05-12 14:00:56,206 - select_implementation +256 - INFO - Using conv2d_nhwc.x86 for nn.conv2d based on highest priority (10)\n",
      "2025-05-12 14:00:56,237 - conv2d_strategy_cpu +144 - WARNING - conv2d NHWC layout is not optimized for x86 with autotvm.\n",
      "2025-05-12 14:00:56,245 - select_implementation +256 - INFO - Using conv2d_nhwc.x86 for nn.conv2d based on highest priority (10)\n",
      "2025-05-12 14:00:56,255 - select_implementation +256 - INFO - Using injective.cpu for cast based on highest priority (10)\n",
      "2025-05-12 14:00:56,265 - select_implementation +256 - INFO - Using injective.cpu for multiply based on highest priority (10)\n",
      "2025-05-12 14:00:56,275 - select_implementation +256 - INFO - Using injective.cpu for add based on highest priority (10)\n",
      "2025-05-12 14:00:56,285 - select_implementation +256 - INFO - Using injective.cpu for right_shift based on highest priority (10)\n",
      "2025-05-12 14:00:56,296 - select_implementation +256 - INFO - Using injective.cpu for clip based on highest priority (10)\n",
      "2025-05-12 14:00:56,307 - select_implementation +256 - INFO - Using injective.cpu for cast based on highest priority (10)\n"
     ]
    },
    {
     "name": "stdout",
     "output_type": "stream",
     "text": [
      "[TEMPLATE WRITER] Generating node main_24\n"
     ]
    },
    {
     "name": "stderr",
     "output_type": "stream",
     "text": [
      "2025-05-12 14:00:56,858 - conv2d_strategy_cpu +144 - WARNING - conv2d NHWC layout is not optimized for x86 with autotvm.\n",
      "2025-05-12 14:00:56,870 - select_implementation +256 - INFO - Using conv2d_nhwc.x86 for nn.conv2d based on highest priority (10)\n",
      "2025-05-12 14:00:56,901 - conv2d_strategy_cpu +144 - WARNING - conv2d NHWC layout is not optimized for x86 with autotvm.\n",
      "2025-05-12 14:00:56,909 - select_implementation +256 - INFO - Using conv2d_nhwc.x86 for nn.conv2d based on highest priority (10)\n",
      "2025-05-12 14:00:56,919 - select_implementation +256 - INFO - Using injective.cpu for cast based on highest priority (10)\n",
      "2025-05-12 14:00:56,929 - select_implementation +256 - INFO - Using injective.cpu for multiply based on highest priority (10)\n",
      "2025-05-12 14:00:56,939 - select_implementation +256 - INFO - Using injective.cpu for add based on highest priority (10)\n",
      "2025-05-12 14:00:56,950 - select_implementation +256 - INFO - Using injective.cpu for right_shift based on highest priority (10)\n",
      "2025-05-12 14:00:56,961 - select_implementation +256 - INFO - Using injective.cpu for clip based on highest priority (10)\n",
      "2025-05-12 14:00:56,971 - select_implementation +256 - INFO - Using injective.cpu for cast based on highest priority (10)\n",
      "2025-05-12 14:00:57,038 - conv2d_strategy_cpu +144 - WARNING - conv2d NHWC layout is not optimized for x86 with autotvm.\n",
      "2025-05-12 14:00:57,046 - select_implementation +256 - INFO - Using conv2d_nhwc.x86 for nn.conv2d based on highest priority (10)\n",
      "2025-05-12 14:00:57,076 - conv2d_strategy_cpu +144 - WARNING - conv2d NHWC layout is not optimized for x86 with autotvm.\n",
      "2025-05-12 14:00:57,084 - select_implementation +256 - INFO - Using conv2d_nhwc.x86 for nn.conv2d based on highest priority (10)\n",
      "2025-05-12 14:00:57,094 - select_implementation +256 - INFO - Using injective.cpu for cast based on highest priority (10)\n",
      "2025-05-12 14:00:57,104 - select_implementation +256 - INFO - Using injective.cpu for multiply based on highest priority (10)\n",
      "2025-05-12 14:00:57,114 - select_implementation +256 - INFO - Using injective.cpu for add based on highest priority (10)\n",
      "2025-05-12 14:00:57,124 - select_implementation +256 - INFO - Using injective.cpu for right_shift based on highest priority (10)\n",
      "2025-05-12 14:00:57,135 - select_implementation +256 - INFO - Using injective.cpu for clip based on highest priority (10)\n",
      "2025-05-12 14:00:57,146 - select_implementation +256 - INFO - Using injective.cpu for cast based on highest priority (10)\n"
     ]
    },
    {
     "name": "stdout",
     "output_type": "stream",
     "text": [
      "[TEMPLATE WRITER] Generating node main_16\n"
     ]
    },
    {
     "name": "stderr",
     "output_type": "stream",
     "text": [
      "2025-05-12 14:00:57,651 - conv2d_strategy_cpu +230 - WARNING - depthwise_conv2d NHWC layout is not optimized for x86 with autotvm.\n",
      "2025-05-12 14:00:57,656 - select_implementation +256 - INFO - Using depthwise_conv2d_nhwc.generic for nn.conv2d based on highest priority (10)\n",
      "2025-05-12 14:00:57,689 - conv2d_strategy_cpu +230 - WARNING - depthwise_conv2d NHWC layout is not optimized for x86 with autotvm.\n",
      "2025-05-12 14:00:57,694 - select_implementation +256 - INFO - Using depthwise_conv2d_nhwc.generic for nn.conv2d based on highest priority (10)\n",
      "2025-05-12 14:00:57,704 - select_implementation +256 - INFO - Using injective.cpu for cast based on highest priority (10)\n",
      "2025-05-12 14:00:57,714 - select_implementation +256 - INFO - Using injective.cpu for multiply based on highest priority (10)\n",
      "2025-05-12 14:00:57,724 - select_implementation +256 - INFO - Using injective.cpu for add based on highest priority (10)\n",
      "2025-05-12 14:00:57,734 - select_implementation +256 - INFO - Using injective.cpu for right_shift based on highest priority (10)\n",
      "2025-05-12 14:00:57,745 - select_implementation +256 - INFO - Using injective.cpu for clip based on highest priority (10)\n",
      "2025-05-12 14:00:57,756 - select_implementation +256 - INFO - Using injective.cpu for cast based on highest priority (10)\n",
      "2025-05-12 14:00:57,848 - conv2d_strategy_cpu +230 - WARNING - depthwise_conv2d NHWC layout is not optimized for x86 with autotvm.\n",
      "2025-05-12 14:00:57,853 - select_implementation +256 - INFO - Using depthwise_conv2d_nhwc.generic for nn.conv2d based on highest priority (10)\n",
      "2025-05-12 14:00:57,885 - conv2d_strategy_cpu +230 - WARNING - depthwise_conv2d NHWC layout is not optimized for x86 with autotvm.\n",
      "2025-05-12 14:00:57,890 - select_implementation +256 - INFO - Using depthwise_conv2d_nhwc.generic for nn.conv2d based on highest priority (10)\n",
      "2025-05-12 14:00:57,901 - select_implementation +256 - INFO - Using injective.cpu for cast based on highest priority (10)\n",
      "2025-05-12 14:00:57,911 - select_implementation +256 - INFO - Using injective.cpu for multiply based on highest priority (10)\n",
      "2025-05-12 14:00:57,920 - select_implementation +256 - INFO - Using injective.cpu for add based on highest priority (10)\n",
      "2025-05-12 14:00:57,931 - select_implementation +256 - INFO - Using injective.cpu for right_shift based on highest priority (10)\n",
      "2025-05-12 14:00:57,942 - select_implementation +256 - INFO - Using injective.cpu for clip based on highest priority (10)\n",
      "2025-05-12 14:00:57,956 - select_implementation +256 - INFO - Using injective.cpu for cast based on highest priority (10)\n"
     ]
    },
    {
     "name": "stdout",
     "output_type": "stream",
     "text": [
      "[TEMPLATE WRITER] Generating node main_20\n",
      "[MEMORY PLANNER] Allocating tensors with 268435456 bytes of on-chip memory\n",
      "[MEMORY PLANNER] All tensors allocated\n"
     ]
    },
    {
     "name": "stderr",
     "output_type": "stream",
     "text": [
      "/scratch/enrusso/match/match/runtime/graph/utils.py:46: UserWarning: Setting the 'color' property will override the edgecolor or facecolor properties.\n",
      "  rect = mpatches.Rectangle(\n"
     ]
    },
    {
     "name": "stdout",
     "output_type": "stream",
     "text": [
      "[MEM PLANNER] Memory allocation graph saved\n",
      "[MEM PLANNER] Moved actual constants to on-chip memory, now there are 268372199 bytes of available on-chip memory\n",
      "[MEMORY PLANNER] Moved to on-chip memory all possible constants and reallocated other tensors\n",
      "[MEM PLANNER] Memory allocation graph saved\n",
      "[MEM PLANNER] Moved on-chip inputs and outputs to on-chip memory, now there are 268372199 bytes of available on-chip memory\n",
      "[MEMORY PLANNER] Moved to on-chip memory all possible inputs and outputs and reallocated other tensors\n",
      "[MEM PLANNER] Memory allocation graph saved\n"
     ]
    },
    {
     "data": {
      "text/plain": [
       "{'model': <match.relay.compiled_module.CompiledModuleResult at 0x7f075c268310>}"
      ]
     },
     "execution_count": 2,
     "metadata": {},
     "output_type": "execute_result"
    }
   ],
   "source": [
    "relay_mod, relay_params = match.get_relay_network(filename=ONNX_FILE_PATH)\n",
    "\n",
    "oenne_model = MatchModel(\n",
    "    relay_mod = relay_mod,\n",
    "    relay_params = relay_params,\n",
    "    model_name = \"model\",\n",
    "    default_inputs = get_default_inputs(mod=relay_mod, params=relay_params, input_files=[INPUT_FILE_PATH]),\n",
    "    handle_out_fn=\"handle_int_classifier\",\n",
    ")\n",
    "match.match(\n",
    "    model = oenne_model,\n",
    "    target = Carfield(),\n",
    "    output_path = OUTPUT_DIR,\n",
    ")"
   ]
  },
  {
   "cell_type": "markdown",
   "metadata": {},
   "source": [
    "## Code Compilation\n",
    "\n",
    "`\n",
    "cd output; CAR_ROOT=path_to_intitialized_carfield_repository make build-host\n",
    "`\n",
    "\n",
    "Tested Carfield repository commit is: `faba585158cee29413672b23671fd40404b16416`"
   ]
  },
  {
   "cell_type": "markdown",
   "metadata": {},
   "source": []
  },
  {
   "cell_type": "markdown",
   "metadata": {},
   "source": []
  }
 ],
 "metadata": {
  "kernelspec": {
   "display_name": "Python 3",
   "language": "python",
   "name": "python3"
  },
  "language_info": {
   "codemirror_mode": {
    "name": "ipython",
    "version": 3
   },
   "file_extension": ".py",
   "mimetype": "text/x-python",
   "name": "python",
   "nbconvert_exporter": "python",
   "pygments_lexer": "ipython3",
   "version": "3.10.16"
  }
 },
 "nbformat": 4,
 "nbformat_minor": 2
}
